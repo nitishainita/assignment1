{
 "cells": [
  {
   "cell_type": "markdown",
   "id": "682f4c97",
   "metadata": {},
   "source": [
    "##### 1. In the below elements which of them are values or an expression? eg:- values can be\n",
    "integer or string and expressions will be mathematical operators.\n",
    "*\n",
    "&#39;hello&#39;\n",
    "-87.8\n",
    "-\n",
    "/\n",
    "+\n",
    "6"
   ]
  },
  {
   "cell_type": "raw",
   "id": "dae6f8cd",
   "metadata": {},
   "source": [
    "* this is an expression\n",
    "&#39;hello&#39; this can be considered as a string so this should be Value\n",
    "\n",
    "-87.8 this is an integer so this is value\n",
    "- this is operator so this is expression\n",
    "/ this is also an operator so this is an expression\n",
    "+ this is an operator so this is an expression\n",
    "6 this is an integer so this is a value"
   ]
  },
  {
   "cell_type": "markdown",
   "id": "07fbdab7",
   "metadata": {},
   "source": [
    "### 2-What is the difference between string and variable?"
   ]
  },
  {
   "cell_type": "raw",
   "id": "004ee1e4",
   "metadata": {},
   "source": [
    "String-In python string are the values which are putted under 'string' or \"string\" or docstring as \"\"\"Docstring\"\"\"\n",
    "variable-thies can be understand as a container which can carry the values like integer ,string etc this are not put under ' ',or \" \"or\"\"\" \"\"\""
   ]
  },
  {
   "cell_type": "markdown",
   "id": "503c391b",
   "metadata": {},
   "source": [
    "### 3. Describe three different data types."
   ]
  },
  {
   "cell_type": "raw",
   "id": "b447d93d",
   "metadata": {},
   "source": [
    "there are many different datatypes are present inside python programming language ,like-integer(int) ,floating point(float),string etc\n",
    "Integer->there is a reserved keyword for integer in python name as int used for numbers like 1,2,3,4,5,6,7,8,9,0 etc\n",
    "Floating point->there is reserved keyword used for this is as float it presents number like->1.2,4.0,5.4 etc\n",
    "string-> there is keyword reserved for this also in python name as str it presents as 'stirng',\"string\",\"\"\"docstring\"\"\" etc "
   ]
  },
  {
   "cell_type": "markdown",
   "id": "65e4b2bc",
   "metadata": {},
   "source": [
    "### 4. What is an expression made up of? What do all expressions do?"
   ]
  },
  {
   "cell_type": "raw",
   "id": "b613cc54",
   "metadata": {},
   "source": [
    "any operator or combination of operator and operand can be referd as an expression.\n",
    "generally expression do some oprations acording to operator and operand present in there "
   ]
  },
  {
   "cell_type": "markdown",
   "id": "5572315e",
   "metadata": {},
   "source": [
    "### 5. This assignment statements, like spam = 10. What is the difference between an expression and a statement?"
   ]
  },
  {
   "cell_type": "raw",
   "id": "e22ea881",
   "metadata": {},
   "source": [
    "expression can expressed as a combination operator,operand and variables which can be used for mathematical work but\n",
    "statement is a fixed sentence like print the anything to understand the code description or comment in python can be seen as a statment"
   ]
  },
  {
   "cell_type": "markdown",
   "id": "dc994224",
   "metadata": {},
   "source": [
    "### 6. After running the following code, what does the variable bacon contain?\n"
   ]
  },
  {
   "cell_type": "raw",
   "id": "50f04eb9",
   "metadata": {},
   "source": [
    "bacon = 22\n",
    "bacon + 1"
   ]
  },
  {
   "cell_type": "code",
   "execution_count": 3,
   "id": "1cdee9f5",
   "metadata": {},
   "outputs": [
    {
     "data": {
      "text/plain": [
       "23"
      ]
     },
     "execution_count": 3,
     "metadata": {},
     "output_type": "execute_result"
    }
   ],
   "source": [
    "bacon = 22\n",
    "bacon + 1"
   ]
  },
  {
   "cell_type": "code",
   "execution_count": 4,
   "id": "4ff7be02",
   "metadata": {},
   "outputs": [
    {
     "data": {
      "text/plain": [
       "22"
      ]
     },
     "execution_count": 4,
     "metadata": {},
     "output_type": "execute_result"
    }
   ],
   "source": [
    "bacon"
   ]
  },
  {
   "cell_type": "raw",
   "id": "e97124ce",
   "metadata": {},
   "source": [
    "it contain same value 22"
   ]
  },
  {
   "cell_type": "markdown",
   "id": "6180a317",
   "metadata": {},
   "source": [
    "### 7. What should the values of the following two terms be?\n"
   ]
  },
  {
   "cell_type": "raw",
   "id": "68c6becc",
   "metadata": {},
   "source": [
    "'spam'+'spamspam'\n",
    "\n",
    "'spam'*3"
   ]
  },
  {
   "cell_type": "code",
   "execution_count": 1,
   "id": "25b76da7",
   "metadata": {},
   "outputs": [
    {
     "data": {
      "text/plain": [
       "'spamspamspam'"
      ]
     },
     "execution_count": 1,
     "metadata": {},
     "output_type": "execute_result"
    }
   ],
   "source": [
    "'spam'+'spamspam'"
   ]
  },
  {
   "cell_type": "code",
   "execution_count": 2,
   "id": "c9c98f97",
   "metadata": {},
   "outputs": [
    {
     "data": {
      "text/plain": [
       "'spamspamspam'"
      ]
     },
     "execution_count": 2,
     "metadata": {},
     "output_type": "execute_result"
    }
   ],
   "source": [
    "'spam'*3"
   ]
  },
  {
   "cell_type": "raw",
   "id": "54a0931a",
   "metadata": {},
   "source": [
    "the values of thies two terms are going to be same as 'spamspamspam'"
   ]
  },
  {
   "cell_type": "markdown",
   "id": "8f850b3e",
   "metadata": {},
   "source": [
    "### 8. Why is eggs a valid variable name while 100 is invalid?"
   ]
  },
  {
   "cell_type": "raw",
   "id": "89870fcf",
   "metadata": {},
   "source": [
    "eggs is qulifies all the condition be an identifier but 100 is not fullfil all coditions it is starting with a numerical value\n",
    "but an identifier can not be start with number that is why this is a invalid variable name"
   ]
  },
  {
   "cell_type": "markdown",
   "id": "8b3baf3d",
   "metadata": {},
   "source": [
    "### 9. What three functions can be used to get the integer, floating-point number, or string version of a value?"
   ]
  },
  {
   "cell_type": "raw",
   "id": "2bf35da9",
   "metadata": {},
   "source": [
    "let a value a=6"
   ]
  },
  {
   "cell_type": "code",
   "execution_count": 9,
   "id": "0ed92ab1",
   "metadata": {},
   "outputs": [
    {
     "data": {
      "text/plain": [
       "int"
      ]
     },
     "execution_count": 9,
     "metadata": {},
     "output_type": "execute_result"
    }
   ],
   "source": [
    "a=6.0\n",
    "a=int(a)\n",
    "type(a)"
   ]
  },
  {
   "cell_type": "code",
   "execution_count": 10,
   "id": "fd0e2127",
   "metadata": {},
   "outputs": [
    {
     "data": {
      "text/plain": [
       "float"
      ]
     },
     "execution_count": 10,
     "metadata": {},
     "output_type": "execute_result"
    }
   ],
   "source": [
    "a=float(a)\n",
    "type(a)"
   ]
  },
  {
   "cell_type": "code",
   "execution_count": 11,
   "id": "2d6a5ae9",
   "metadata": {},
   "outputs": [
    {
     "data": {
      "text/plain": [
       "str"
      ]
     },
     "execution_count": 11,
     "metadata": {},
     "output_type": "execute_result"
    }
   ],
   "source": [
    "a=str(a)\n",
    "type(a)"
   ]
  },
  {
   "cell_type": "raw",
   "id": "eda78e8a",
   "metadata": {},
   "source": [
    "thies are three required funtions,int(),float(),str()"
   ]
  },
  {
   "cell_type": "markdown",
   "id": "d3ce5d70",
   "metadata": {},
   "source": [
    "### 10. Why does this expression cause an error? How can you fix it?\n",
    "'I have eaten' + 99 +'burritos.'"
   ]
  },
  {
   "cell_type": "code",
   "execution_count": 12,
   "id": "f703d79a",
   "metadata": {},
   "outputs": [
    {
     "ename": "TypeError",
     "evalue": "can only concatenate str (not \"int\") to str",
     "output_type": "error",
     "traceback": [
      "\u001b[1;31m---------------------------------------------------------------------------\u001b[0m",
      "\u001b[1;31mTypeError\u001b[0m                                 Traceback (most recent call last)",
      "Input \u001b[1;32mIn [12]\u001b[0m, in \u001b[0;36m<cell line: 1>\u001b[1;34m()\u001b[0m\n\u001b[1;32m----> 1\u001b[0m \u001b[38;5;124;43m'\u001b[39;49m\u001b[38;5;124;43mI have eaten\u001b[39;49m\u001b[38;5;124;43m'\u001b[39;49m\u001b[43m \u001b[49m\u001b[38;5;241;43m+\u001b[39;49m\u001b[43m \u001b[49m\u001b[38;5;241;43m99\u001b[39;49m \u001b[38;5;241m+\u001b[39m\u001b[38;5;124m'\u001b[39m\u001b[38;5;124mburritos.\u001b[39m\u001b[38;5;124m'\u001b[39m\n",
      "\u001b[1;31mTypeError\u001b[0m: can only concatenate str (not \"int\") to str"
     ]
    }
   ],
   "source": [
    "'I have eaten' + 99 +'burritos.'"
   ]
  },
  {
   "cell_type": "raw",
   "id": "172445d8",
   "metadata": {},
   "source": [
    "99 is a integer that is why it cause an error"
   ]
  },
  {
   "cell_type": "code",
   "execution_count": 14,
   "id": "9a90367f",
   "metadata": {},
   "outputs": [
    {
     "data": {
      "text/plain": [
       "'I have eaten99burritos.'"
      ]
     },
     "execution_count": 14,
     "metadata": {},
     "output_type": "execute_result"
    }
   ],
   "source": [
    "'I have eaten' + str(99) +'burritos.'"
   ]
  },
  {
   "cell_type": "code",
   "execution_count": null,
   "id": "9a015680",
   "metadata": {},
   "outputs": [],
   "source": []
  }
 ],
 "metadata": {
  "kernelspec": {
   "display_name": "Python 3 (ipykernel)",
   "language": "python",
   "name": "python3"
  },
  "language_info": {
   "codemirror_mode": {
    "name": "ipython",
    "version": 3
   },
   "file_extension": ".py",
   "mimetype": "text/x-python",
   "name": "python",
   "nbconvert_exporter": "python",
   "pygments_lexer": "ipython3",
   "version": "3.10.1"
  }
 },
 "nbformat": 4,
 "nbformat_minor": 5
}
